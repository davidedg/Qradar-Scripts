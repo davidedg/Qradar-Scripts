{
 "cells": [
  {
   "cell_type": "markdown",
   "metadata": {
    "pycharm": {
     "name": "#%% md\n"
    }
   },
   "source": [
    "# Offenses to csv file and monitoring for new ones\n",
    "This is for get the offenses in Qradar and save it to a database for later use in data analysis software.\n",
    "\n",
    "This is an example of how to use the IBM QRadar API. Educational purposes only. Please test it on your own risk. Do not test it in production environment."
   ]
  },
  {
   "cell_type": "markdown",
   "metadata": {
    "pycharm": {
     "name": "#%% md\n"
    }
   },
   "source": [
    "Import the necessary modules"
   ]
  },
  {
   "cell_type": "code",
   "execution_count": null,
   "metadata": {
    "pycharm": {
     "name": "#%%\n"
    }
   },
   "outputs": [],
   "source": [
    "import json\n",
    "import requests\n",
    "import pandas as pd\n",
    "import urllib.parse\n",
    "import time\n",
    "# from pandas.json_normalize import json_normalize\n",
    "# this line depends on the version of pandas you have installed\n",
    "import warnings\n",
    "from requests.packages.urllib3.exceptions import InsecureRequestWarning\n",
    "warnings.filterwarnings(\"ignore\")\n",
    "import logging"
   ]
  },
  {
   "cell_type": "markdown",
   "metadata": {
    "pycharm": {
     "name": "#%% md\n"
    }
   },
   "source": [
    "Create a logger, it will log to a file and to the console. The file will be in the same directory as the script."
   ]
  },
  {
   "cell_type": "code",
   "execution_count": null,
   "metadata": {
    "pycharm": {
     "name": "#%%\n"
    }
   },
   "outputs": [],
   "source": [
    "#create a log\n",
    "logging.basicConfig(filename='get_offenses.log', \n",
    "                    level=logging.INFO,\n",
    "                    format='%(asctime)s - %(name)s - %(levelname)s - %(message)s')"
   ]
  },
  {
   "cell_type": "markdown",
   "metadata": {
    "pycharm": {
     "name": "#%% md\n"
    }
   },
   "source": [
    "You need to change the values of the variables below for your environment, optional you can put a filter in te suffix like \"?filter=status%3Dopen\" if you have too much offenses"
   ]
  },
  {
   "cell_type": "code",
   "execution_count": null,
   "metadata": {
    "pycharm": {
     "name": "#%%\n"
    }
   },
   "outputs": [],
   "source": [
    "#authentication\n",
    "SEC_TOKEN = 'xxxxxxxxxxxxxxxxxxxxx'\n",
    "#token name in Qradar is \"Inyector\"\n",
    "URL_base = 'https://xxx.xxx.xxx.xxx/api'\n",
    "URL_suffix='/siem/offenses?filter=status%3Dopen'\n",
    "URL_Concat = URL_base + URL_suffix"
   ]
  },
  {
   "cell_type": "markdown",
   "metadata": {
    "pycharm": {
     "name": "#%% md\n"
    }
   },
   "source": [
    "In order to get the data, we need to create a header with the security token"
   ]
  },
  {
   "cell_type": "code",
   "execution_count": null,
   "metadata": {
    "pycharm": {
     "name": "#%%\n"
    }
   },
   "outputs": [],
   "source": [
    "#headers\n",
    "header = {\n",
    "    'SEC':SEC_TOKEN,\n",
    "    'Content-Type':'application/json',\n",
    "    'accept':'application/json'\n",
    "}"
   ]
  },
  {
   "cell_type": "markdown",
   "metadata": {
    "pycharm": {
     "name": "#%% md\n"
    }
   },
   "source": [
    "This function will get all the offenses in Qradar"
   ]
  },
  {
   "cell_type": "code",
   "execution_count": null,
   "metadata": {
    "pycharm": {
     "name": "#%%\n"
    }
   },
   "outputs": [],
   "source": [
    "#def get all the offenses in Qradar\n",
    "def get_old_offenses():\n",
    "    response = requests.get(URL_Concat, headers=header, verify=False)\n",
    "    if response.status_code == 200:\n",
    "        offenses=json.loads(requests.get(URL_Concat, headers=header, verify=False).text)\n",
    "        df=pd.json_normalize(offenses)\n",
    "        logging.info('Function get_old_offenses() is done ok')\n",
    "        return df\n",
    "    else:\n",
    "        logging.error('Function get_old_offenses() is not done ok')\n",
    "        return None"
   ]
  },
  {
   "cell_type": "markdown",
   "metadata": {
    "pycharm": {
     "name": "#%% md\n"
    }
   },
   "source": [
    "def drop the columns that are not needed"
   ]
  },
  {
   "cell_type": "code",
   "execution_count": null,
   "metadata": {
    "pycharm": {
     "name": "#%%\n"
    }
   },
   "outputs": [],
   "source": [
    "def drop_columns(df):\n",
    "        df=df.drop(['last_persisted_time',\n",
    "            'username_count',\n",
    "            'flow_count',\n",
    "            'assigned_to',\n",
    "            'follow_up',\n",
    "            'source_address_ids',\n",
    "            'protected',\n",
    "            'close_time',\n",
    "            'last_updated_time',\n",
    "            'policy_category_count', \n",
    "            'closing_reason_id',\n",
    "            'first_persisted_time',\n",
    "            'local_destination_address_ids',\n",
    "            'local_destination_count', \n",
    "            'rules',\n",
    "            'log_sources',\n",
    "            'security_category_count',\n",
    "            'closing_user',\n",
    "            'category_count',\n",
    "            'device_count',\n",
    "            'status'\n",
    "            ], axis=1)\n",
    "        logging.info('Function drop_columns() is done ok')\n",
    "        return df"
   ]
  },
  {
   "cell_type": "markdown",
   "metadata": {
    "pycharm": {
     "name": "#%% md\n"
    }
   },
   "source": [
    "Call it"
   ]
  },
  {
   "cell_type": "code",
   "execution_count": null,
   "metadata": {
    "pycharm": {
     "name": "#%%\n"
    }
   },
   "outputs": [],
   "source": [
    "df=get_old_offenses()"
   ]
  },
  {
   "cell_type": "markdown",
   "metadata": {
    "pycharm": {
     "name": "#%% md\n"
    }
   },
   "source": [
    "The json response does not have all the information I need ot it conmes in nested jsons so I have to create a new columns for all the information I need"
   ]
  },
  {
   "cell_type": "code",
   "execution_count": null,
   "metadata": {
    "pycharm": {
     "name": "#%%\n"
    }
   },
   "outputs": [],
   "source": [
    "#create a new colum for log source, rule id, domain name and offense type name\n",
    "df['log_source']=''\n",
    "df['rule_id']=''\n",
    "df['domain_name']=''\n",
    "df['offense_type_name']=''\n",
    "logging.info('Create a new column for log source, rule id and domain name')"
   ]
  },
  {
   "cell_type": "markdown",
   "metadata": {
    "pycharm": {
     "name": "#%% md\n"
    }
   },
   "source": [
    "The log sources and rule info asociated with the offense are in the column log_sources and its a list"
   ]
  },
  {
   "cell_type": "code",
   "execution_count": null,
   "metadata": {
    "pycharm": {
     "name": "#%%\n"
    }
   },
   "outputs": [],
   "source": [
    "#def extract nested json in the df (log source and rules)\n",
    "def extract_nested_jsons(df):\n",
    "    for i in range(len(df)):\n",
    "        if df['log_sources'][i] != []:\n",
    "            df['log_source'][i]=df['log_sources'][i][0]['name']\n",
    "        logging.info('Extract the log source in the nested json for the offense id: %s', df.iloc[i]['id'])\n",
    "        if df['rules'][i] != []:\n",
    "            df['rule_id'][i]=df['rules'][i][0]['id']\n",
    "        logging.info('Extract the rule id in the nested json for the offense id: %s', df.iloc[i]['id'])\n",
    "    logging.info('Function extract_nested_jsons() is done ok')\n",
    "    return df"
   ]
  },
  {
   "cell_type": "markdown",
   "metadata": {
    "pycharm": {
     "name": "#%% md\n"
    }
   },
   "source": [
    "The domain ID comes in the offense json, but the domain name is not, so we need to change the domain id for the domain name"
   ]
  },
  {
   "cell_type": "code",
   "execution_count": null,
   "metadata": {
    "pycharm": {
     "name": "#%%\n"
    }
   },
   "outputs": [],
   "source": [
    "#def change the domain id for the domain name\n",
    "def change_domain_id(domain_id):\n",
    "    URL_Domanins= URL_base+'/config/domain_management/domains/'+ str(domain_id)\n",
    "    response=requests.get(URL_Domanins, headers=header, verify=False)\n",
    "    if response.status_code == 200:\n",
    "        domain_name=json.loads(requests.get(URL_Domanins, headers=header, verify=False).text)\n",
    "        domain_name=domain_name['name']\n",
    "        logging.info('Function change_domain_id() is done ok')\n",
    "        return domain_name\n",
    "    else:\n",
    "        logging.error('Function change_domain_id() is not done ok')\n",
    "        return None"
   ]
  },
  {
   "cell_type": "markdown",
   "metadata": {
    "pycharm": {
     "name": "#%% md\n"
    }
   },
   "source": [
    "The indexer is the offense type id, but I want to change it for the offense type name"
   ]
  },
  {
   "cell_type": "code",
   "execution_count": null,
   "metadata": {
    "pycharm": {
     "name": "#%%\n"
    }
   },
   "outputs": [],
   "source": [
    "#def change the offense type id for the offense type name\n",
    "def change_offense_type_id(offense_type_id):\n",
    "    URL_Offense_Type= URL_base+'/siem/offense_types/'+ str(offense_type_id)\n",
    "    response=requests.get(URL_Offense_Type, headers=header, verify=False)\n",
    "    if response.status_code == 200:\n",
    "        offense_type_name=json.loads(requests.get(URL_Offense_Type, headers=header, verify=False).text)\n",
    "        offense_type_name=offense_type_name['name']\n",
    "        logging.info('Function change_offense_type_id() is done ok')\n",
    "        return offense_type_name\n",
    "    else:\n",
    "        logging.error('Function change_offense_type_id() is not done ok')\n",
    "        return None"
   ]
  },
  {
   "cell_type": "markdown",
   "metadata": {
    "pycharm": {
     "name": "#%% md\n"
    }
   },
   "source": [
    "This function get the rule details that I want to use"
   ]
  },
  {
   "cell_type": "code",
   "execution_count": null,
   "metadata": {
    "pycharm": {
     "name": "#%%\n"
    }
   },
   "outputs": [],
   "source": [
    "#def change the rule id for the rule name an get the owner of the rule\n",
    "def change_rule_id(rule_id):\n",
    "    URL_Rules= URL_base+'/analytics/rules/'+ str(rule_id)\n",
    "    response=requests.get(URL_Rules, headers=header, verify=False)\n",
    "    if response.status_code == 200:\n",
    "        rule_details=json.loads(requests.get(URL_Rules, headers=header, verify=False).text)\n",
    "        rule_name=rule_details['name']\n",
    "        rule_origin=rule_details['origin']\n",
    "        rule_owner=rule_details['owner']\n",
    "        rule_identifier=rule_details['identifier']\n",
    "        logging.info('Function change_rule_id() is done ok for rule '+rule_name)\n",
    "        return rule_name , rule_owner, rule_origin, rule_identifier\n",
    "    else:\n",
    "        logging.error('Function change_rule_id() is not done ok')\n",
    "        return None"
   ]
  },
  {
   "cell_type": "markdown",
   "metadata": {
    "pycharm": {
     "name": "#%% md\n"
    }
   },
   "source": [
    "Call it"
   ]
  },
  {
   "cell_type": "code",
   "execution_count": null,
   "metadata": {
    "pycharm": {
     "name": "#%%\n"
    }
   },
   "outputs": [],
   "source": [
    "df=extract_nested_jsons(df)\n",
    "df=drop_columns(df)"
   ]
  },
  {
   "cell_type": "markdown",
   "metadata": {
    "pycharm": {
     "name": "#%% md\n"
    }
   },
   "source": [
    "Two for cicle to call all the previous functions"
   ]
  },
  {
   "cell_type": "code",
   "execution_count": null,
   "metadata": {
    "pycharm": {
     "name": "#%%\n"
    }
   },
   "outputs": [],
   "source": [
    "logging.info('Starting to get the domain name for the domain id in all the ofenses')\n",
    "for i in range (0,len(df)):\n",
    "    logging.info('Getting the domain name for the offense id: %s', df.iloc[i]['id'])\n",
    "    domain_id=df.loc[i,'domain_id']\n",
    "    domain_name=change_domain_id(domain_id)\n",
    "    df.loc[i,'domain_name']=domain_name\n",
    "    logging.info('Domain name for the offense id: %s is: %s', df.iloc[i]['id'], domain_name)\n",
    "    logging.info('Getting the offence type name for the offense id: %s', df.iloc[i]['id'])\n",
    "    offense_type=df.iloc[i]['offense_type']\n",
    "    offense_type_name=change_offense_type_id(offense_type)\n",
    "    df.loc[i,'offense_type_name']=offense_type_name\n",
    "    logging.info('Offense type name for the offense id: %s is %s', df.iloc[i]['id'], offense_type_name)\n",
    "logging.info('Change the domain id for the domain name is for all the current offenses is done ok')"
   ]
  },
  {
   "cell_type": "code",
   "execution_count": null,
   "metadata": {
    "pycharm": {
     "name": "#%%\n"
    }
   },
   "outputs": [],
   "source": [
    "#for cicle to get the rule name and owner\n",
    "logging.info('Starting to get the rule name, owner, origin and identifier for the rule id in all the ofenses')\n",
    "for i in range (0,len(df)):\n",
    "    rule_id=df.loc[i,'rule_id']\n",
    "    rule_name, rule_owner, rule_origin, rule_identifier =change_rule_id(rule_id)\n",
    "    df.loc[i,'rule_name']=rule_name\n",
    "    df.loc[i,'owner']=rule_owner\n",
    "    df.loc[i,'origin']=rule_origin\n",
    "    df.loc[i,'identifier']=rule_identifier\n",
    "    logging.info('Rule name, owner, origin and identifier for the offense id: %s is %s', df.iloc[i]['id'], rule_name)\n",
    "logging.info('Change the rule id for the rule name, owner, origin and identifier is for all the current offenses is done ok')"
   ]
  },
  {
   "cell_type": "code",
   "execution_count": null,
   "metadata": {
    "pycharm": {
     "name": "#%%\n"
    }
   },
   "outputs": [],
   "source": [
    "URL_base = 'https://xxx.xxx.xxx.xxx/api'\n",
    "URL_suffix='/siem/offenses'\n",
    "URL_Concat = URL_base + URL_suffix"
   ]
  },
  {
   "cell_type": "markdown",
   "metadata": {
    "pycharm": {
     "name": "#%% md\n"
    }
   },
   "source": [
    "Saved the dataframe in a csv file"
   ]
  },
  {
   "cell_type": "code",
   "execution_count": null,
   "metadata": {
    "pycharm": {
     "name": "#%%\n"
    }
   },
   "outputs": [],
   "source": [
    "#df to csv\n",
    "df.to_csv('offenses.csv', index=False)\n",
    "logging.info('The df to csv is done ok')"
   ]
  },
  {
   "cell_type": "markdown",
   "metadata": {
    "pycharm": {
     "name": "#%% md\n"
    }
   },
   "source": [
    "Get the last ID"
   ]
  },
  {
   "cell_type": "code",
   "execution_count": null,
   "metadata": {
    "pycharm": {
     "name": "#%%\n"
    }
   },
   "outputs": [],
   "source": [
    "last_id=df['id'].max()"
   ]
  },
  {
   "cell_type": "markdown",
   "metadata": {
    "pycharm": {
     "name": "#%% md\n"
    }
   },
   "source": [
    "This function is to get the last id of the offenses if there is a new one, latter applys all the previous functions"
   ]
  },
  {
   "cell_type": "code",
   "execution_count": null,
   "metadata": {
    "pycharm": {
     "name": "#%%\n"
    }
   },
   "outputs": [],
   "source": [
    "def get_new_offenses(last_id):\n",
    "    last_id=last_id+1\n",
    "    URL_Concat = URL_base + URL_suffix + '/' + str(last_id)\n",
    "    response=requests.get(URL_Concat, headers=header, verify=False)\n",
    "    if response.status_code==200:\n",
    "        new_offense=json.loads(requests.get(URL_Concat, headers=header, verify=False).text)\n",
    "        new_offense_df=pd.json_normalize(new_offense)\n",
    "        new_offense_df['log_source']=''\n",
    "        new_offense_df['rule_id']=''\n",
    "        new_offense_df['domain_name']=''\n",
    "        new_offense_df['ofense_type_name']=''\n",
    "        new_offense_df=extract_nested_jsons(new_offense_df)\n",
    "        new_offense_df=drop_columns(new_offense_df)\n",
    "        for i in range (0,len(new_offense_df)):\n",
    "            logging.info('Getting the domain name for the offense id: %s', new_offense_df.iloc[i]['id'])\n",
    "            domain_id=new_offense_df.loc[i,'domain_id']\n",
    "            domain_name=change_domain_id(domain_id)\n",
    "            new_offense_df.loc[i,'domain_name']=domain_name\n",
    "            logging.info('Domain name for the offense id: %s is: %s', new_offense_df.iloc[i]['id'], domain_name)\n",
    "            logging.info('Getting the offense type name for the offense id: %s', new_offense_df.iloc[i]['id'])\n",
    "            offense_type=change_offense_type_id(new_offense_df.loc[i,'offense_type'])\n",
    "            offense_type_name=change_offense_type_id(offense_type)\n",
    "            new_offense_df.loc[i,'ofense_type_name']=offense_type_name\n",
    "            logging.info('Offense type name for the offense id: %s is %s', new_offense_df.iloc[i]['id'], offense_type_name)\n",
    "        for i in range (0,len(new_offense_df)):\n",
    "            rule_id=new_offense_df.loc[i,'rule_id']\n",
    "            rule_name, rule_owner, rule_origin, rule_identifier =change_rule_id(rule_id)\n",
    "            new_offense_df.loc[i,'rule_name']=rule_name\n",
    "            new_offense_df.loc[i,'owner']=rule_owner\n",
    "            new_offense_df.loc[i,'origin']=rule_origin\n",
    "            new_offense_df.loc[i,'identifier']=rule_identifier\n",
    "            logging.info('Rule name, owner, origin and identifier for the new offense id: %s is %s', new_offense_df.iloc[i]['id'], rule_name)\n",
    "        return new_offense_df\n",
    "    else:\n",
    "        logging.error('Function get_new_offenses() is not done ok')\n",
    "        return None"
   ]
  },
  {
   "cell_type": "markdown",
   "metadata": {
    "pycharm": {
     "name": "#%% md\n"
    }
   },
   "source": [
    "Watch for new offenses, the time is configurable"
   ]
  },
  {
   "cell_type": "code",
   "execution_count": null,
   "metadata": {
    "pycharm": {
     "name": "#%%\n"
    }
   },
   "outputs": [],
   "source": [
    "while True:\n",
    "    new_offense_df=get_new_offenses(last_id)\n",
    "    if new_offense_df is not None:\n",
    "        logging.info('Function get_new_offenses() is done ok')\n",
    "        logging.info('last id is %s', last_id)\n",
    "        last_id=new_offense_df.iloc[0]['id']\n",
    "        #append to csv\n",
    "        new_offense_df.to_csv('offenses.csv', mode='a', header=False, index=False)\n",
    "        logging.info('new offense added. ID is %s', last_id)\n",
    "        logging.info('The new offenses to csv is done ok')\n",
    "    else:\n",
    "        logging.info('No new offenses, next offense id will be %s', last_id+1)\n",
    "        logging.info('Sleeping for 5 minutes')\n",
    "    time.sleep(300)\n",
    "    logging.info('Sleeping for 5 minutes')"
   ]
  }
 ],
 "metadata": {
  "kernelspec": {
   "display_name": "Python 3.9.7 ('base')",
   "language": "python",
   "name": "python3"
  },
  "language_info": {
   "codemirror_mode": {
    "name": "ipython",
    "version": 3
   },
   "file_extension": ".py",
   "mimetype": "text/x-python",
   "name": "python",
   "nbconvert_exporter": "python",
   "pygments_lexer": "ipython3",
   "version": "3.9.7"
  },
  "orig_nbformat": 4,
  "vscode": {
   "interpreter": {
    "hash": "80a029067f15b34fab7e2fe89f2d0d1bf86b98984ecb718f9fa9babe99b9cea0"
   }
  }
 },
 "nbformat": 4,
 "nbformat_minor": 2
}