{
 "cells": [
  {
   "cell_type": "markdown",
   "metadata": {
    "pycharm": {
     "name": "#%% md\n"
    }
   },
   "source": [
    "This is an example of how to use the IBM QRadar API to close an offenses every 12 hours.\n",
    "Educational purposes only. Please test it on your own risk. Do not test it in production environment."
   ]
  },
  {
   "cell_type": "markdown",
   "metadata": {
    "pycharm": {
     "name": "#%% md\n"
    }
   },
   "source": [
    "Import the necessary modules"
   ]
  },
  {
   "cell_type": "code",
   "execution_count": 1,
   "metadata": {
    "pycharm": {
     "name": "#%%\n"
    }
   },
   "outputs": [],
   "source": [
    "import requests\n",
    "import json\n",
    "import pandas as pd\n",
    "import urllib.parse\n",
    "import time\n",
    "from pandas.io.json import json_normalize\n",
    "# from pandas.json_normalize import json_normalize\n",
    "# this line depends on the version of pandas you have installed\n",
    "import warnings\n",
    "from requests.packages.urllib3.exceptions import InsecureRequestWarning\n",
    "warnings.filterwarnings(\"ignore\", category=InsecureRequestWarning)"
   ]
  },
  {
   "cell_type": "markdown",
   "metadata": {
    "pycharm": {
     "name": "#%% md\n"
    }
   },
   "source": [
    "You can change the following variables to your own values"
   ]
  },
  {
   "cell_type": "code",
   "execution_count": 2,
   "metadata": {
    "pycharm": {
     "name": "#%%\n"
    }
   },
   "outputs": [],
   "source": [
    "SEC_TOKEN = 'xxxxxxxxx-6ac6-4e93-xxxxxxx-19xxxxxxxb3cxxb'\n",
    "URL_base = 'https://myqradar/api'\n",
    "URL_suffix='/siem/offenses?filter=status%3Dopen'"
   ]
  },
  {
   "cell_type": "code",
   "execution_count": 3,
   "metadata": {
    "pycharm": {
     "name": "#%%\n"
    }
   },
   "outputs": [],
   "source": [
    "URL_Concat = URL_base + URL_suffix"
   ]
  },
  {
   "cell_type": "markdown",
   "metadata": {
    "pycharm": {
     "name": "#%% md\n"
    }
   },
   "source": [
    "In order to get the data, we need to create a header with the security token"
   ]
  },
  {
   "cell_type": "code",
   "execution_count": 4,
   "metadata": {
    "pycharm": {
     "name": "#%%\n"
    }
   },
   "outputs": [],
   "source": [
    "header = {\n",
    "    'SEC':SEC_TOKEN,\n",
    "    'Content-Type':'application/json',\n",
    "    'accept':'application/json'\n",
    "}"
   ]
  },
  {
   "cell_type": "markdown",
   "metadata": {
    "pycharm": {
     "name": "#%% md\n"
    }
   },
   "source": [
    "Define a funtion for get the list of open and active offenses"
   ]
  },
  {
   "cell_type": "code",
   "execution_count": 5,
   "metadata": {
    "pycharm": {
     "name": "#%%\n"
    }
   },
   "outputs": [],
   "source": [
    "def get_offenses():\n",
    "    URL = URL_base + URL_suffix\n",
    "    response = requests.get(URL_Concat, headers=header, verify=False)\n",
    "    if response.status_code == 200:\n",
    "        with open ('close_offense.log', 'a') as f:\n",
    "            f.write(time.strftime(\"%Y-%m-%d %H:%M:%S\", time.localtime()) + ' success to get offenses\\n')\n",
    "        return response.json()\n",
    "    else:\n",
    "        with open ('close_offense.log', 'a') as f:\n",
    "            f.write(time.strftime(\"%Y-%m-%d %H:%M:%S\", time.localtime()) + ' Error: ' + str(response.status_code) + '\\n')\n",
    "        return None"
   ]
  },
  {
   "cell_type": "markdown",
   "metadata": {
    "pycharm": {
     "name": "#%% md\n"
    }
   },
   "source": [
    "Define a function to close an offense.\n",
    "You need to change the reason id"
   ]
  },
  {
   "cell_type": "code",
   "execution_count": 6,
   "metadata": {
    "pycharm": {
     "name": "#%%\n"
    }
   },
   "outputs": [],
   "source": [
    "def close_offense(offense_id):\n",
    "    URL = URL_base + '/siem/offenses/' + str(offense_id) + '?closing_reason_id=54&status=CLOSED'\n",
    "    response = requests.post(URL, headers=header, verify=False)\n",
    "    if response.status_code == 200:\n",
    "        with open ('close_offense.log', 'a') as f:\n",
    "            f.write(time.strftime(\"%Y-%m-%d %H:%M:%S\", time.localtime()) +  ' Offense ID: ' + str(offense_id) + ' closed' + '\\n')\n",
    "        return response.json()\n",
    "    else:\n",
    "        with open ('close_offense.log', 'a') as f:\n",
    "            f.write(time.strftime(\"%Y-%m-%d %H:%M:%S\", time.localtime()) + ' Error at close offense ' + offense_id + '. Error: ' + str(response.status_code) + '\\n')\n",
    "        return None"
   ]
  },
  {
   "cell_type": "markdown",
   "metadata": {
    "pycharm": {
     "name": "#%% md\n"
    }
   },
   "source": [
    "Define the function to add a comment to the offense. You need to change the note text"
   ]
  },
  {
   "cell_type": "code",
   "execution_count": 7,
   "metadata": {
    "pycharm": {
     "name": "#%%\n"
    }
   },
   "outputs": [],
   "source": [
    "def add_comment(offense_id):\n",
    "    URL = URL_base + '/siem/offenses/' + str(offense_id) + '/notes?note_text=Cerrado_despues_de_12_horas'\n",
    "    response = requests.post(URL, headers=header, verify=False)\n",
    "    if response.status_code == 201:\n",
    "        with open ('close_offense.log', 'a') as f:\n",
    "            f.write(time.strftime(\"%Y-%m-%d %H:%M:%S\", time.localtime()) + ' Offense ID: ' + str(offense_id) + ' comment added' + '\\n')\n",
    "        return response.json()\n",
    "    else:\n",
    "        with open ('close_offense.log', 'a') as f:\n",
    "            f.write(time.strftime(\"%Y-%m-%d %H:%M:%S\", time.localtime()) + ' Error at add comment ' + offense_id + '. Error: ' + str(response.status_code) + '\\n')\n",
    "        return None"
   ]
  },
  {
   "cell_type": "markdown",
   "metadata": {
    "pycharm": {
     "name": "#%% md\n"
    }
   },
   "source": [
    "Use the function to get the list of active offenses and save it to a dataframe"
   ]
  },
  {
   "cell_type": "code",
   "execution_count": 8,
   "metadata": {
    "pycharm": {
     "name": "#%%\n"
    }
   },
   "outputs": [],
   "source": [
    "offenses = get_offenses()\n",
    "offenses=json_normalize(offenses)"
   ]
  },
  {
   "cell_type": "markdown",
   "metadata": {
    "pycharm": {
     "name": "#%% md\n"
    }
   },
   "source": [
    "This variable is used to get the actual time"
   ]
  },
  {
   "cell_type": "code",
   "execution_count": 9,
   "metadata": {
    "pycharm": {
     "name": "#%%\n"
    }
   },
   "outputs": [],
   "source": [
    "today = pd.Timestamp.now()"
   ]
  },
  {
   "cell_type": "markdown",
   "metadata": {
    "pycharm": {
     "name": "#%% md\n"
    }
   },
   "source": [
    "For cicle to closea and comment offenses. If the offense was created more than 12 hours ago, it will be closed and a comment will be added"
   ]
  },
  {
   "cell_type": "code",
   "execution_count": 10,
   "metadata": {
    "pycharm": {
     "name": "#%%\n"
    }
   },
   "outputs": [
    {
     "name": "stdout",
     "output_type": "stream",
     "text": [
      "Offense 15679 is not older than 12 hours\n",
      "Offense 15678 is not older than 12 hours\n",
      "Offense 15677 is not older than 12 hours\n",
      "Offense 15676 is not older than 12 hours\n",
      "Offense 15675 is not older than 12 hours\n",
      "Offense 15674 is not older than 12 hours\n",
      "Offense 15673 is not older than 12 hours\n",
      "Offense 15672 is not older than 12 hours\n",
      "Offense 15671 is not older than 12 hours\n",
      "Offense 15670 is not older than 12 hours\n"
     ]
    }
   ],
   "source": [
    "for i in range(len(offenses)):\n",
    "    if offenses.iloc[i]['status'] == 'OPEN':\n",
    "        time_offense = pd.to_datetime(offenses.iloc[i]['start_time'], unit='ms')\n",
    "        diff = today - time_offense\n",
    "        #timedelta is in days. .5 is 12 hours and 1 is 24 hours.Modify as needed.\n",
    "        if diff > pd.Timedelta(days=1):\n",
    "            add_comment(offenses.iloc[i]['id'])\n",
    "            close_offense(offenses.iloc[i]['id'])\n",
    "        else:\n",
    "            with open ('close_offense.log', 'a') as f:\n",
    "                f.write(time.strftime(\"%Y-%m-%d %H:%M:%S\", time.localtime()) + ' Offense ID: ' + str(offenses.iloc[i]['id']) + ' not closed, is not older than 24 hours' + '\\n')\n",
    "    else:\n",
    "        with open ('close_offense.log', 'a') as f:\n",
    "            f.write(time.strftime(\"%Y-%m-%d %H:%M:%S\", time.localtime()) +  ' Offense ID: ' + str(offenses.iloc[i]['id']) + ' is already closed' + '\\n')"
   ]
  }
 ],
 "metadata": {
  "kernelspec": {
   "display_name": "Python 3.9.7 ('base')",
   "language": "python",
   "name": "python3"
  },
  "language_info": {
   "codemirror_mode": {
    "name": "ipython",
    "version": 3
   },
   "file_extension": ".py",
   "mimetype": "text/x-python",
   "name": "python",
   "nbconvert_exporter": "python",
   "pygments_lexer": "ipython3",
   "version": "3.9.7"
  },
  "orig_nbformat": 4,
  "vscode": {
   "interpreter": {
    "hash": "80a029067f15b34fab7e2fe89f2d0d1bf86b98984ecb718f9fa9babe99b9cea0"
   }
  }
 },
 "nbformat": 4,
 "nbformat_minor": 2
}