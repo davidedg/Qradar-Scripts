{
 "cells": [
  {
   "cell_type": "markdown",
   "metadata": {
    "pycharm": {
     "name": "#%% md\n"
    }
   },
   "source": [
    "This scipt is used to get the deployment information of the QRadar console. It will return the following information:\n",
    "* QRadar version\n",
    "* QRadar build number\n",
    "* Hosts types\n",
    "* Appliances type\n",
    "\n",
    "This is an example of how to use the IBM QRadar API. Educational purposes only. Please test it on your own risk. Do not test it in production environment.\n"
   ]
  },
  {
   "cell_type": "markdown",
   "metadata": {
    "pycharm": {
     "name": "#%% md\n"
    }
   },
   "source": [
    "Import the necessary modules"
   ]
  },
  {
   "cell_type": "code",
   "execution_count": 1,
   "metadata": {
    "pycharm": {
     "name": "#%%\n"
    }
   },
   "outputs": [],
   "source": [
    "import json\n",
    "import requests\n",
    "import pandas as pd\n",
    "import urllib.parse\n",
    "import time\n",
    "import numpy as np\n",
    "# from pandas.json_normalize import json_normalize\n",
    "# this line depends on the version of pandas you have installed\n",
    "import warnings\n",
    "from requests.packages.urllib3.exceptions import InsecureRequestWarning\n",
    "warnings.filterwarnings(\"ignore\")"
   ]
  },
  {
   "cell_type": "markdown",
   "metadata": {
    "pycharm": {
     "name": "#%% md\n"
    }
   },
   "source": [
    "You need to change the values of the variables below for your environment"
   ]
  },
  {
   "cell_type": "code",
   "execution_count": 2,
   "metadata": {
    "pycharm": {
     "name": "#%%\n"
    }
   },
   "outputs": [],
   "source": [
    "#authentication\n",
    "SEC_TOKEN = 'xxxxxx-xxxxxx-xxxxxx-xxxxx-xxx'\n",
    "#token name in Qradar is \"Inyector\"\n",
    "URL_base = 'https://xxx.xxx.xxx.xxx/api'\n",
    "URL_suffix='/config/deployment/hosts'\n",
    "URL_Concat = URL_base + URL_suffix"
   ]
  },
  {
   "cell_type": "markdown",
   "metadata": {
    "pycharm": {
     "name": "#%% md\n"
    }
   },
   "source": [
    "In order to get the data, we need to create a header with the security token"
   ]
  },
  {
   "cell_type": "code",
   "execution_count": 3,
   "metadata": {
    "pycharm": {
     "name": "#%%\n"
    }
   },
   "outputs": [],
   "source": [
    "#headers\n",
    "header = {\n",
    "    'SEC':SEC_TOKEN,\n",
    "    'Content-Type':'application/json',\n",
    "    'accept':'application/json'\n",
    "}"
   ]
  },
  {
   "cell_type": "code",
   "execution_count": 4,
   "metadata": {
    "pycharm": {
     "name": "#%%\n"
    }
   },
   "outputs": [
    {
     "data": {
      "text/plain": [
       "Index(['eps_rate_hardware_limit', 'components', 'average_fpm', 'public_ip',\n",
       "       'secondary_server_id', 'average_eps', 'fpm_allocation',\n",
       "       'email_server_id', 'private_ip', 'hostname', 'total_memory',\n",
       "       'primary_server_id', 'remote_tunnel_initiation_enabled',\n",
       "       'eps_allocation', 'id', 'cpus', 'app_memory', 'peak_eps',\n",
       "       'proxy_server_id', 'license_serial_number', 'peak_fpm', 'version',\n",
       "       'fpm_rate_hardware_limit', 'encryption_enabled', 'compression_enabled',\n",
       "       'status', 'appliance.id', 'appliance.type'],\n",
       "      dtype='object')"
      ]
     },
     "execution_count": 4,
     "metadata": {},
     "output_type": "execute_result"
    }
   ],
   "source": [
    "#get all the hosts\n",
    "response = json.loads(requests.get(URL_Concat, headers=header, verify=False).text)\n",
    "df=pd.json_normalize(response)\n",
    "df.columns"
   ]
  },
  {
   "cell_type": "code",
   "execution_count": 5,
   "metadata": {
    "pycharm": {
     "name": "#%%\n"
    }
   },
   "outputs": [],
   "source": [
    "df=df.drop(['average_fpm',\n",
    "        'secondary_server_id',\n",
    "        'email_server_id',\n",
    "        'remote_tunnel_initiation_enabled',\n",
    "        'proxy_server_id',\n",
    "        'license_serial_number',\n",
    "        'peak_fpm',\n",
    "        'fpm_rate_hardware_limit',\n",
    "        'fpm_allocation',\n",
    "        'primary_server_id',\n",
    "    ], axis=1)"
   ]
  },
  {
   "cell_type": "code",
   "execution_count": 6,
   "metadata": {
    "pycharm": {
     "name": "#%%\n"
    }
   },
   "outputs": [],
   "source": [
    "#filer status active if you want to see  only active hosts\n",
    "#df=df[df['status']=='Active']"
   ]
  },
  {
   "cell_type": "code",
   "execution_count": 7,
   "metadata": {
    "pycharm": {
     "name": "#%%\n"
    }
   },
   "outputs": [],
   "source": [
    "#create a new column with the rol\n",
    "df['rol']=np.nan"
   ]
  },
  {
   "cell_type": "code",
   "execution_count": 8,
   "metadata": {
    "pycharm": {
     "name": "#%%\n"
    }
   },
   "outputs": [],
   "source": [
    "#if 'eps_rate_hardware_limit' is null then it is a apphost\n",
    "df.loc[df['eps_rate_hardware_limit'].isnull(),'rol']='Apphost'"
   ]
  },
  {
   "cell_type": "code",
   "execution_count": 9,
   "metadata": {
    "pycharm": {
     "name": "#%%\n"
    }
   },
   "outputs": [],
   "source": [
    "#components as string\n",
    "df['components']=df['components'].astype(str)\n",
    "#if 'components' contains 'ariel_proxy_server' then it is a Console\n",
    "df.loc[df['components'].str.contains('ariel_proxy_server'),'rol']='Console' \n",
    "#if 'components' contains 'eventprocessor' then it is a Event Processor\n",
    "df.loc[df['components'].str.contains('eventprocessor'),'rol']='Event Processor' \n",
    "#if 'components' contains 'eventcollector' then it is a Event Collector\n",
    "df.loc[df['components'].str.contains('eventcollector'),'rol']='Event Collector'"
   ]
  },
  {
   "cell_type": "code",
   "execution_count": 10,
   "metadata": {
    "pycharm": {
     "name": "#%%\n"
    }
   },
   "outputs": [],
   "source": [
    "#total_memory to GB and two decimals\n",
    "df['total_memory']=df['total_memory'].apply(lambda x: round(x/1024/1024,2))\n",
    "df['app_memory']=df['app_memory'].apply(lambda x: round(x/1024/1024,2))"
   ]
  },
  {
   "cell_type": "code",
   "execution_count": 11,
   "metadata": {
    "pycharm": {
     "name": "#%%\n"
    }
   },
   "outputs": [],
   "source": [
    "#if appliance.type is software'\n",
    "for index, row in df.iterrows():\n",
    "    if row['appliance.id']=='software':\n",
    "        df.loc[index,'appliance.type']='Virtual Appliance'\n",
    "    elif row['appliance.id']=='4000':\n",
    "        df.loc[index,'appliance.type']='Virtual Appliance'\n",
    "    else:\n",
    "        df.loc[index,'appliance.type']='Physical Appliance'"
   ]
  },
  {
   "cell_type": "code",
   "execution_count": 18,
   "metadata": {
    "pycharm": {
     "name": "#%%\n"
    }
   },
   "outputs": [
    {
     "data": {
      "text/html": [
       "<div>\n",
       "<style scoped>\n",
       "    .dataframe tbody tr th:only-of-type {\n",
       "        vertical-align: middle;\n",
       "    }\n",
       "\n",
       "    .dataframe tbody tr th {\n",
       "        vertical-align: top;\n",
       "    }\n",
       "\n",
       "    .dataframe thead th {\n",
       "        text-align: right;\n",
       "    }\n",
       "</style>\n",
       "<table border=\"1\" class=\"dataframe\">\n",
       "  <thead>\n",
       "    <tr style=\"text-align: right;\">\n",
       "      <th></th>\n",
       "      <th>eps_rate_hardware_limit</th>\n",
       "      <th>components</th>\n",
       "      <th>public_ip</th>\n",
       "      <th>average_eps</th>\n",
       "      <th>private_ip</th>\n",
       "      <th>hostname</th>\n",
       "      <th>total_memory</th>\n",
       "      <th>eps_allocation</th>\n",
       "      <th>id</th>\n",
       "      <th>cpus</th>\n",
       "      <th>app_memory</th>\n",
       "      <th>peak_eps</th>\n",
       "      <th>version</th>\n",
       "      <th>encryption_enabled</th>\n",
       "      <th>compression_enabled</th>\n",
       "      <th>status</th>\n",
       "      <th>appliance.id</th>\n",
       "      <th>appliance.type</th>\n",
       "      <th>rol</th>\n",
       "    </tr>\n",
       "  </thead>\n",
       "  <tbody>\n",
       "    <tr>\n",
       "      <th>0</th>\n",
       "      <td>100000.0</td>\n",
       "      <td>None</td>\n",
       "      <td>2.2.2.2</td>\n",
       "      <td>None</td>\n",
       "      <td>1.1.1.1</td>\n",
       "      <td>Host example</td>\n",
       "      <td>0.00</td>\n",
       "      <td>NaN</td>\n",
       "      <td>186</td>\n",
       "      <td>0</td>\n",
       "      <td>0.0</td>\n",
       "      <td>None</td>\n",
       "      <td>0.0.0</td>\n",
       "      <td>None</td>\n",
       "      <td>None</td>\n",
       "      <td>ADDING</td>\n",
       "      <td>software</td>\n",
       "      <td>Virtual Appliance</td>\n",
       "      <td>NaN</td>\n",
       "    </tr>\n",
       "    <tr>\n",
       "      <th>1</th>\n",
       "      <td>100000.0</td>\n",
       "      <td>['hostcontext', 'eventcollectoringress', 'even...</td>\n",
       "      <td>2.2.2.2</td>\n",
       "      <td>None</td>\n",
       "      <td>1.1.1.1</td>\n",
       "      <td>Host example</td>\n",
       "      <td>31.26</td>\n",
       "      <td>1500.0</td>\n",
       "      <td>181</td>\n",
       "      <td>16</td>\n",
       "      <td>0.0</td>\n",
       "      <td>None</td>\n",
       "      <td>7.4.3</td>\n",
       "      <td>True</td>\n",
       "      <td>False</td>\n",
       "      <td>Active</td>\n",
       "      <td>software</td>\n",
       "      <td>Virtual Appliance</td>\n",
       "      <td>Event Processor</td>\n",
       "    </tr>\n",
       "    <tr>\n",
       "      <th>2</th>\n",
       "      <td>100000.0</td>\n",
       "      <td>['hostcontext', 'eventcollectoringress', 'even...</td>\n",
       "      <td>2.2.2.2</td>\n",
       "      <td>None</td>\n",
       "      <td>1.1.1.1</td>\n",
       "      <td>Host example</td>\n",
       "      <td>15.51</td>\n",
       "      <td>500.0</td>\n",
       "      <td>182</td>\n",
       "      <td>8</td>\n",
       "      <td>0.0</td>\n",
       "      <td>None</td>\n",
       "      <td>7.4.3</td>\n",
       "      <td>True</td>\n",
       "      <td>False</td>\n",
       "      <td>Active</td>\n",
       "      <td>software</td>\n",
       "      <td>Virtual Appliance</td>\n",
       "      <td>Event Processor</td>\n",
       "    </tr>\n",
       "    <tr>\n",
       "      <th>3</th>\n",
       "      <td>100000.0</td>\n",
       "      <td>['hostcontext', 'eventcollectoringress', 'even...</td>\n",
       "      <td>2.2.2.2</td>\n",
       "      <td>None</td>\n",
       "      <td>1.1.1.1</td>\n",
       "      <td>Host example</td>\n",
       "      <td>29.29</td>\n",
       "      <td>800.0</td>\n",
       "      <td>155</td>\n",
       "      <td>8</td>\n",
       "      <td>0.0</td>\n",
       "      <td>None</td>\n",
       "      <td>7.4.3</td>\n",
       "      <td>False</td>\n",
       "      <td>False</td>\n",
       "      <td>Active</td>\n",
       "      <td>software</td>\n",
       "      <td>Virtual Appliance</td>\n",
       "      <td>Event Processor</td>\n",
       "    </tr>\n",
       "    <tr>\n",
       "      <th>4</th>\n",
       "      <td>100000.0</td>\n",
       "      <td>['hostcontext', 'eventcollectoringress', 'even...</td>\n",
       "      <td>2.2.2.2</td>\n",
       "      <td>None</td>\n",
       "      <td>1.1.1.1</td>\n",
       "      <td>Host example</td>\n",
       "      <td>62.66</td>\n",
       "      <td>5000.0</td>\n",
       "      <td>177</td>\n",
       "      <td>20</td>\n",
       "      <td>0.0</td>\n",
       "      <td>None</td>\n",
       "      <td>7.4.3</td>\n",
       "      <td>False</td>\n",
       "      <td>False</td>\n",
       "      <td>Active</td>\n",
       "      <td>software</td>\n",
       "      <td>Virtual Appliance</td>\n",
       "      <td>Event Processor</td>\n",
       "    </tr>\n",
       "  </tbody>\n",
       "</table>\n",
       "</div>"
      ],
      "text/plain": [
       "   eps_rate_hardware_limit                                         components  \\\n",
       "0                 100000.0                                               None   \n",
       "1                 100000.0  ['hostcontext', 'eventcollectoringress', 'even...   \n",
       "2                 100000.0  ['hostcontext', 'eventcollectoringress', 'even...   \n",
       "3                 100000.0  ['hostcontext', 'eventcollectoringress', 'even...   \n",
       "4                 100000.0  ['hostcontext', 'eventcollectoringress', 'even...   \n",
       "\n",
       "  public_ip average_eps private_ip      hostname  total_memory  \\\n",
       "0   2.2.2.2        None    1.1.1.1  Host example          0.00   \n",
       "1   2.2.2.2        None    1.1.1.1  Host example         31.26   \n",
       "2   2.2.2.2        None    1.1.1.1  Host example         15.51   \n",
       "3   2.2.2.2        None    1.1.1.1  Host example         29.29   \n",
       "4   2.2.2.2        None    1.1.1.1  Host example         62.66   \n",
       "\n",
       "   eps_allocation   id  cpus  app_memory peak_eps version encryption_enabled  \\\n",
       "0             NaN  186     0         0.0     None   0.0.0               None   \n",
       "1          1500.0  181    16         0.0     None   7.4.3               True   \n",
       "2           500.0  182     8         0.0     None   7.4.3               True   \n",
       "3           800.0  155     8         0.0     None   7.4.3              False   \n",
       "4          5000.0  177    20         0.0     None   7.4.3              False   \n",
       "\n",
       "  compression_enabled  status appliance.id     appliance.type              rol  \n",
       "0                None  ADDING     software  Virtual Appliance              NaN  \n",
       "1               False  Active     software  Virtual Appliance  Event Processor  \n",
       "2               False  Active     software  Virtual Appliance  Event Processor  \n",
       "3               False  Active     software  Virtual Appliance  Event Processor  \n",
       "4               False  Active     software  Virtual Appliance  Event Processor  "
      ]
     },
     "execution_count": 18,
     "metadata": {},
     "output_type": "execute_result"
    }
   ],
   "source": [
    "df.head(5)"
   ]
  }
 ],
 "metadata": {
  "kernelspec": {
   "display_name": "Python 3.9.7 ('base')",
   "language": "python",
   "name": "python3"
  },
  "language_info": {
   "codemirror_mode": {
    "name": "ipython",
    "version": 3
   },
   "file_extension": ".py",
   "mimetype": "text/x-python",
   "name": "python",
   "nbconvert_exporter": "python",
   "pygments_lexer": "ipython3",
   "version": "3.9.7"
  },
  "orig_nbformat": 4,
  "vscode": {
   "interpreter": {
    "hash": "80a029067f15b34fab7e2fe89f2d0d1bf86b98984ecb718f9fa9babe99b9cea0"
   }
  }
 },
 "nbformat": 4,
 "nbformat_minor": 2
}